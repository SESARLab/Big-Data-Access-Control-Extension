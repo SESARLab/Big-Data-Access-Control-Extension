{
 "cells": [
  {
   "cell_type": "markdown",
   "metadata": {
    "ExecuteTime": {
     "end_time": "2024-02-16T16:52:56.556745Z",
     "start_time": "2024-02-16T16:52:47.090335Z"
    }
   },
   "source": [
    "%pip install sqlalchemy\n",
    "%pip install pymysql\n",
    "%pip install cryptography\n",
    "%pip install mysql-connector-python\n",
    "\n"
   ]
  },
  {
   "cell_type": "markdown",
   "metadata": {
    "collapsed": false
   },
   "source": [
    "# Exhaustive Performance"
   ]
  },
  {
   "cell_type": "code",
   "execution_count": 14,
   "metadata": {},
   "outputs": [],
   "source": [
    "import mysql.connector\n",
    "mydb = mysql.connector.connect(\n",
    "  host=\"ubuntu.sesar.int\",\n",
    "  user=\"root\",\n",
    "  password=\"r00t\",\n",
    "  port=\"3309\",\n",
    "    database=\"pippo\"\n",
    ")\n",
    "mycursor = mydb.cursor()\n",
    "\n",
    "TABLE = \"pippo.mytable_gamma_vbad\"\n",
    "MAX_NUMBER_OF_NODES = 7\n",
    "MAX_NUMBER_OF_SERVICES = 6"
   ]
  },
  {
   "cell_type": "code",
   "execution_count": 15,
   "metadata": {
    "ExecuteTime": {
     "end_time": "2024-02-19T10:40:37.630634Z",
     "start_time": "2024-02-19T10:40:37.585195Z"
    },
    "collapsed": false
   },
   "outputs": [
    {
     "name": "stdout",
     "output_type": "stream",
     "text": [
      "2.0 5692.765424333333 395.1175735555555 710.7383522222221 1410.558955111111 2702.4940743333336\n",
      "3.0 1154.4522102222222 3483.5072357777776 10271.13870577778 30933.83246977777 92190.83902144444\n",
      "4.0 10197.356466333333 42897.56829722222 175430.73173066665 706069.2885016666 2551.260210111111\n",
      "5.0 130421.33068500001 656147.0523581111 3359479.534072889 5154.821100000001 26182.719725333332\n",
      "6.0 12261119.104276335 9037.278735 54802.827300666664 320049.89177344437 1978217.6977802226\n",
      "7.0 14352.719471 98833.08043811111 702823.2813468889 5107027.250075889\n"
     ]
    }
   ],
   "source": [
    "result_dict = {}\n",
    "\n",
    "mycursor.execute(f\"\"\"SELECT number_of_services, number_of_nodes, avg(execution_time) as execution\n",
    "        FROM {TABLE}\n",
    "        WHERE window_size = number_of_nodes\n",
    "        GROUP BY number_of_nodes, number_of_services\n",
    "        ORDER BY number_of_services\n",
    "    \"\"\")\n",
    "\n",
    "for row in mycursor:\n",
    "    number_of_services = row[0]\n",
    "    number_of_nodes = row[1]\n",
    "    execution_time = row[2]\n",
    "\n",
    "    if number_of_services not in result_dict:\n",
    "        result_dict[number_of_services] = [execution_time]\n",
    "    else:\n",
    "        result_dict[number_of_services].append(execution_time)\n",
    "\n",
    "# Print the formatted output\n",
    "with open(f\"exhaustive_performance_{TABLE}.dat\", \"w\") as file:\n",
    "    for number_of_nodes, execution_times in result_dict.items():\n",
    "        starred = \" \".join(map(str, execution_times))\n",
    "        file.write(f\"{number_of_nodes} {starred}\\n\")\n",
    "        print(number_of_nodes, starred)\n",
    "\n"
   ]
  },
  {
   "cell_type": "markdown",
   "metadata": {
    "collapsed": false
   },
   "source": [
    "# Window Time Performance "
   ]
  },
  {
   "cell_type": "markdown",
   "metadata": {},
   "source": []
  },
  {
   "cell_type": "code",
   "execution_count": null,
   "metadata": {
    "ExecuteTime": {
     "end_time": "2024-02-19T11:08:02.591352Z",
     "start_time": "2024-02-19T11:08:02.320780Z"
    },
    "collapsed": false
   },
   "outputs": [
    {
     "ename": "",
     "evalue": "",
     "output_type": "error",
     "traceback": [
      "\u001b[1;31mRunning cells with '/usr/local/bin/python' requires the ipykernel package.\n",
      "\u001b[1;31mRun the following command to install 'ipykernel' into the Python environment. \n",
      "\u001b[1;31mCommand: '/usr/local/bin/python -m pip install ipykernel -U --user --force-reinstall'"
     ]
    }
   ],
   "source": [
    "\n",
    "\n",
    "mycursor = mydb.cursor()\n",
    "#result_dict = {}\n",
    "for n in range(2,8):\n",
    "\n",
    "    mycursor.execute(f\"\"\"SELECT window_size,number_of_services, number_of_nodes, avg(execution_time) as execution\n",
    "            FROM  {TABLE}\n",
    "            WHERE number_of_nodes =  {n}\n",
    "            GROUP BY number_of_nodes, number_of_services,window_size\n",
    "            ORDER BY window_size\n",
    "\n",
    "        \"\"\")\n",
    "\n",
    "\n",
    "    result_dict = {}\n",
    "    for row in mycursor:\n",
    "        window_size, number_of_services, number_of_nodes, execution_time  = row\n",
    "        if window_size not in result_dict:\n",
    "            result_dict[window_size] = {number_of_services: [execution_time]}\n",
    "        else:\n",
    "            if number_of_services not in result_dict[window_size]:\n",
    "                result_dict[window_size][number_of_services] = [execution_time]\n",
    "            else:\n",
    "                result_dict[window_size][number_of_services].append(execution_time)\n",
    "\n",
    "    with open(f\"window_time_performance_{TABLE}_n{n}.dat\", \"w\") as file:\n",
    "        for window_size, services in result_dict.items():\n",
    "            for number_of_services, execution_times in services.items():\n",
    "                starred = \" \".join(map(str, execution_times))\n",
    "                file.write(f\"{number_of_services} {starred}\\n\")\n",
    "                print(window_size, number_of_services, starred)\n",
    "\n",
    "            file.write(\"\\n\\n\")\n",
    "\n",
    "\n",
    "    # Print the formatted output\n",
    "    # with open(f\"window_time_performance_{TABLE}_n{n}_w{w}.dat\", \"w\") as file:\n",
    "    #     for number_of_nodes, execution_times in result_dict.items():\n",
    "    #         starred = \" \".join(map(str, execution_times))\n",
    "    #         file.write(f\"{number_of_nodes} {starred}\\n\")\n",
    "    #         print(number_of_nodes, starred)\n",
    "\n",
    "\n"
   ]
  },
  {
   "cell_type": "markdown",
   "metadata": {},
   "source": [
    "# Window Quality Performance"
   ]
  },
  {
   "cell_type": "code",
   "execution_count": null,
   "metadata": {},
   "outputs": [
    {
     "ename": "",
     "evalue": "",
     "output_type": "error",
     "traceback": [
      "\u001b[1;31mRunning cells with '/usr/local/bin/python' requires the ipykernel package.\n",
      "\u001b[1;31mRun the following command to install 'ipykernel' into the Python environment. \n",
      "\u001b[1;31mCommand: '/usr/local/bin/python -m pip install ipykernel -U --user --force-reinstall'"
     ]
    }
   ],
   "source": [
    "mycursor = mydb.cursor()\n",
    "#result_dict = {}\n",
    "for n in range(2,MAX_NUMBER_OF_NODES+1):\n",
    "    for w in range(1,n+1):\n",
    "        query = f\"\"\"SELECT number_of_services, number_of_nodes, avg(metric)\n",
    "                FROM {TABLE}\n",
    "                WHERE number_of_nodes = {n} AND window_size = {w}\n",
    "                GROUP BY number_of_nodes, number_of_services,window_size\n",
    "                ORDER BY number_of_services\n",
    "            \"\"\"\n",
    "        mycursor.execute(query)\n",
    "\n",
    "        result_dict = {}\n",
    "        for row in mycursor:\n",
    "            number_of_services = row[0]\n",
    "            number_of_nodes = row[1]\n",
    "            execution_time = row[2]\n",
    "\n",
    "            if number_of_services not in result_dict:\n",
    "                result_dict[number_of_services] = [execution_time]\n",
    "            else:\n",
    "                result_dict[number_of_services].append(execution_time)\n",
    "\n",
    "        # Print the formatted output\n",
    "        with open(f\"window_quality_performance_{TABLE}_n{n}_w{w}.dat\", \"w\") as file:\n",
    "            for number_of_nodes, execution_times in result_dict.items():\n",
    "                starred = \" \".join(map(str, execution_times))\n",
    "                file.write(f\"{number_of_nodes} {starred}\\n\")\n",
    "                print(number_of_nodes, starred)"
   ]
  },
  {
   "cell_type": "code",
   "execution_count": 18,
   "metadata": {},
   "outputs": [
    {
     "ename": "ProgrammingError",
     "evalue": "1146 (42S02): Table 'pippo.mytable' doesn't exist",
     "output_type": "error",
     "traceback": [
      "\u001b[0;31m---------------------------------------------------------------------------\u001b[0m",
      "\u001b[0;31mMySQLInterfaceError\u001b[0m                       Traceback (most recent call last)",
      "File \u001b[0;32m~/Dottorato/03_paper_in_corso/Big Data Access Control - extension/.venv/lib/python3.11/site-packages/mysql/connector/connection_cext.py:661\u001b[0m, in \u001b[0;36mCMySQLConnection.cmd_query\u001b[0;34m(self, query, raw, buffered, raw_as_string)\u001b[0m\n\u001b[1;32m    660\u001b[0m         query \u001b[38;5;241m=\u001b[39m query\u001b[38;5;241m.\u001b[39mencode(\u001b[38;5;124m\"\u001b[39m\u001b[38;5;124mutf-8\u001b[39m\u001b[38;5;124m\"\u001b[39m)\n\u001b[0;32m--> 661\u001b[0m     \u001b[38;5;28;43mself\u001b[39;49m\u001b[38;5;241;43m.\u001b[39;49m\u001b[43m_cmysql\u001b[49m\u001b[38;5;241;43m.\u001b[39;49m\u001b[43mquery\u001b[49m\u001b[43m(\u001b[49m\n\u001b[1;32m    662\u001b[0m \u001b[43m        \u001b[49m\u001b[43mquery\u001b[49m\u001b[43m,\u001b[49m\n\u001b[1;32m    663\u001b[0m \u001b[43m        \u001b[49m\u001b[43mraw\u001b[49m\u001b[38;5;241;43m=\u001b[39;49m\u001b[43mraw\u001b[49m\u001b[43m,\u001b[49m\n\u001b[1;32m    664\u001b[0m \u001b[43m        \u001b[49m\u001b[43mbuffered\u001b[49m\u001b[38;5;241;43m=\u001b[39;49m\u001b[43mbuffered\u001b[49m\u001b[43m,\u001b[49m\n\u001b[1;32m    665\u001b[0m \u001b[43m        \u001b[49m\u001b[43mraw_as_string\u001b[49m\u001b[38;5;241;43m=\u001b[39;49m\u001b[43mraw_as_string\u001b[49m\u001b[43m,\u001b[49m\n\u001b[1;32m    666\u001b[0m \u001b[43m        \u001b[49m\u001b[43mquery_attrs\u001b[49m\u001b[38;5;241;43m=\u001b[39;49m\u001b[38;5;28;43mself\u001b[39;49m\u001b[38;5;241;43m.\u001b[39;49m\u001b[43mquery_attrs\u001b[49m\u001b[43m,\u001b[49m\n\u001b[1;32m    667\u001b[0m \u001b[43m    \u001b[49m\u001b[43m)\u001b[49m\n\u001b[1;32m    668\u001b[0m \u001b[38;5;28;01mexcept\u001b[39;00m MySQLInterfaceError \u001b[38;5;28;01mas\u001b[39;00m err:\n",
      "\u001b[0;31mMySQLInterfaceError\u001b[0m: Table 'pippo.mytable' doesn't exist",
      "\nThe above exception was the direct cause of the following exception:\n",
      "\u001b[0;31mProgrammingError\u001b[0m                          Traceback (most recent call last)",
      "Cell \u001b[0;32mIn[18], line 11\u001b[0m\n\u001b[1;32m      4\u001b[0m \u001b[38;5;28;01mfor\u001b[39;00m w \u001b[38;5;129;01min\u001b[39;00m \u001b[38;5;28mrange\u001b[39m(\u001b[38;5;241m1\u001b[39m,n):\n\u001b[1;32m      5\u001b[0m     query \u001b[38;5;241m=\u001b[39m \u001b[38;5;124mf\u001b[39m\u001b[38;5;124m\"\"\"\u001b[39m\u001b[38;5;124mSELECT number_of_services, number_of_nodes, avg(percentage)\u001b[39m\n\u001b[1;32m      6\u001b[0m \u001b[38;5;124m            FROM pippo.mytable\u001b[39m\n\u001b[1;32m      7\u001b[0m \u001b[38;5;124m            WHERE number_of_nodes = \u001b[39m\u001b[38;5;132;01m{\u001b[39;00mn\u001b[38;5;132;01m}\u001b[39;00m\u001b[38;5;124m AND window_size = \u001b[39m\u001b[38;5;132;01m{\u001b[39;00mw\u001b[38;5;132;01m}\u001b[39;00m\n\u001b[1;32m      8\u001b[0m \u001b[38;5;124m            GROUP BY number_of_nodes, number_of_services,window_size\u001b[39m\n\u001b[1;32m      9\u001b[0m \u001b[38;5;124m            ORDER BY number_of_services\u001b[39m\n\u001b[1;32m     10\u001b[0m \u001b[38;5;124m        \u001b[39m\u001b[38;5;124m\"\"\"\u001b[39m\n\u001b[0;32m---> 11\u001b[0m     \u001b[43mmycursor\u001b[49m\u001b[38;5;241;43m.\u001b[39;49m\u001b[43mexecute\u001b[49m\u001b[43m(\u001b[49m\u001b[43mquery\u001b[49m\u001b[43m)\u001b[49m\n\u001b[1;32m     13\u001b[0m     result_dict \u001b[38;5;241m=\u001b[39m {}\n\u001b[1;32m     14\u001b[0m     \u001b[38;5;28;01mfor\u001b[39;00m row \u001b[38;5;129;01min\u001b[39;00m mycursor:\n",
      "File \u001b[0;32m~/Dottorato/03_paper_in_corso/Big Data Access Control - extension/.venv/lib/python3.11/site-packages/mysql/connector/cursor_cext.py:374\u001b[0m, in \u001b[0;36mCMySQLCursor.execute\u001b[0;34m(self, operation, params, multi)\u001b[0m\n\u001b[1;32m    369\u001b[0m             \u001b[38;5;28;01mraise\u001b[39;00m ProgrammingError(\n\u001b[1;32m    370\u001b[0m                 \u001b[38;5;124m\"\u001b[39m\u001b[38;5;124mNot all parameters were used in the SQL statement\u001b[39m\u001b[38;5;124m\"\u001b[39m\n\u001b[1;32m    371\u001b[0m             )\n\u001b[1;32m    373\u001b[0m \u001b[38;5;28;01mtry\u001b[39;00m:\n\u001b[0;32m--> 374\u001b[0m     result \u001b[38;5;241m=\u001b[39m \u001b[38;5;28;43mself\u001b[39;49m\u001b[38;5;241;43m.\u001b[39;49m\u001b[43m_cnx\u001b[49m\u001b[38;5;241;43m.\u001b[39;49m\u001b[43mcmd_query\u001b[49m\u001b[43m(\u001b[49m\n\u001b[1;32m    375\u001b[0m \u001b[43m        \u001b[49m\u001b[43mstmt\u001b[49m\u001b[43m,\u001b[49m\n\u001b[1;32m    376\u001b[0m \u001b[43m        \u001b[49m\u001b[43mraw\u001b[49m\u001b[38;5;241;43m=\u001b[39;49m\u001b[38;5;28;43mself\u001b[39;49m\u001b[38;5;241;43m.\u001b[39;49m\u001b[43m_raw\u001b[49m\u001b[43m,\u001b[49m\n\u001b[1;32m    377\u001b[0m \u001b[43m        \u001b[49m\u001b[43mbuffered\u001b[49m\u001b[38;5;241;43m=\u001b[39;49m\u001b[38;5;28;43mself\u001b[39;49m\u001b[38;5;241;43m.\u001b[39;49m\u001b[43m_buffered\u001b[49m\u001b[43m,\u001b[49m\n\u001b[1;32m    378\u001b[0m \u001b[43m        \u001b[49m\u001b[43mraw_as_string\u001b[49m\u001b[38;5;241;43m=\u001b[39;49m\u001b[38;5;28;43mself\u001b[39;49m\u001b[38;5;241;43m.\u001b[39;49m\u001b[43m_raw_as_string\u001b[49m\u001b[43m,\u001b[49m\n\u001b[1;32m    379\u001b[0m \u001b[43m    \u001b[49m\u001b[43m)\u001b[49m\n\u001b[1;32m    380\u001b[0m \u001b[38;5;28;01mexcept\u001b[39;00m MySQLInterfaceError \u001b[38;5;28;01mas\u001b[39;00m err:\n\u001b[1;32m    381\u001b[0m     \u001b[38;5;28;01mraise\u001b[39;00m get_mysql_exception(\n\u001b[1;32m    382\u001b[0m         msg\u001b[38;5;241m=\u001b[39merr\u001b[38;5;241m.\u001b[39mmsg, errno\u001b[38;5;241m=\u001b[39merr\u001b[38;5;241m.\u001b[39merrno, sqlstate\u001b[38;5;241m=\u001b[39merr\u001b[38;5;241m.\u001b[39msqlstate\n\u001b[1;32m    383\u001b[0m     ) \u001b[38;5;28;01mfrom\u001b[39;00m \u001b[38;5;21;01merr\u001b[39;00m\n",
      "File \u001b[0;32m~/Dottorato/03_paper_in_corso/Big Data Access Control - extension/.venv/lib/python3.11/site-packages/mysql/connector/opentelemetry/context_propagation.py:74\u001b[0m, in \u001b[0;36mwith_context_propagation.<locals>.wrapper\u001b[0;34m(cnx, *args, **kwargs)\u001b[0m\n\u001b[1;32m     72\u001b[0m \u001b[38;5;250m\u001b[39m\u001b[38;5;124;03m\"\"\"Context propagation decorator.\"\"\"\u001b[39;00m\n\u001b[1;32m     73\u001b[0m \u001b[38;5;28;01mif\u001b[39;00m \u001b[38;5;129;01mnot\u001b[39;00m OTEL_ENABLED \u001b[38;5;129;01mor\u001b[39;00m \u001b[38;5;129;01mnot\u001b[39;00m cnx\u001b[38;5;241m.\u001b[39motel_context_propagation:\n\u001b[0;32m---> 74\u001b[0m     \u001b[38;5;28;01mreturn\u001b[39;00m \u001b[43mmethod\u001b[49m\u001b[43m(\u001b[49m\u001b[43mcnx\u001b[49m\u001b[43m,\u001b[49m\u001b[43m \u001b[49m\u001b[38;5;241;43m*\u001b[39;49m\u001b[43margs\u001b[49m\u001b[43m,\u001b[49m\u001b[43m \u001b[49m\u001b[38;5;241;43m*\u001b[39;49m\u001b[38;5;241;43m*\u001b[39;49m\u001b[43mkwargs\u001b[49m\u001b[43m)\u001b[49m\n\u001b[1;32m     76\u001b[0m current_span \u001b[38;5;241m=\u001b[39m trace\u001b[38;5;241m.\u001b[39mget_current_span()\n\u001b[1;32m     77\u001b[0m tp_header \u001b[38;5;241m=\u001b[39m \u001b[38;5;28;01mNone\u001b[39;00m\n",
      "File \u001b[0;32m~/Dottorato/03_paper_in_corso/Big Data Access Control - extension/.venv/lib/python3.11/site-packages/mysql/connector/connection_cext.py:669\u001b[0m, in \u001b[0;36mCMySQLConnection.cmd_query\u001b[0;34m(self, query, raw, buffered, raw_as_string)\u001b[0m\n\u001b[1;32m    661\u001b[0m     \u001b[38;5;28mself\u001b[39m\u001b[38;5;241m.\u001b[39m_cmysql\u001b[38;5;241m.\u001b[39mquery(\n\u001b[1;32m    662\u001b[0m         query,\n\u001b[1;32m    663\u001b[0m         raw\u001b[38;5;241m=\u001b[39mraw,\n\u001b[0;32m   (...)\u001b[0m\n\u001b[1;32m    666\u001b[0m         query_attrs\u001b[38;5;241m=\u001b[39m\u001b[38;5;28mself\u001b[39m\u001b[38;5;241m.\u001b[39mquery_attrs,\n\u001b[1;32m    667\u001b[0m     )\n\u001b[1;32m    668\u001b[0m \u001b[38;5;28;01mexcept\u001b[39;00m MySQLInterfaceError \u001b[38;5;28;01mas\u001b[39;00m err:\n\u001b[0;32m--> 669\u001b[0m     \u001b[38;5;28;01mraise\u001b[39;00m get_mysql_exception(\n\u001b[1;32m    670\u001b[0m         err\u001b[38;5;241m.\u001b[39merrno, msg\u001b[38;5;241m=\u001b[39merr\u001b[38;5;241m.\u001b[39mmsg, sqlstate\u001b[38;5;241m=\u001b[39merr\u001b[38;5;241m.\u001b[39msqlstate\n\u001b[1;32m    671\u001b[0m     ) \u001b[38;5;28;01mfrom\u001b[39;00m \u001b[38;5;21;01merr\u001b[39;00m\n\u001b[1;32m    672\u001b[0m \u001b[38;5;28;01mexcept\u001b[39;00m \u001b[38;5;167;01mAttributeError\u001b[39;00m \u001b[38;5;28;01mas\u001b[39;00m err:\n\u001b[1;32m    673\u001b[0m     addr \u001b[38;5;241m=\u001b[39m (\n\u001b[1;32m    674\u001b[0m         \u001b[38;5;28mself\u001b[39m\u001b[38;5;241m.\u001b[39m_unix_socket \u001b[38;5;28;01mif\u001b[39;00m \u001b[38;5;28mself\u001b[39m\u001b[38;5;241m.\u001b[39m_unix_socket \u001b[38;5;28;01melse\u001b[39;00m \u001b[38;5;124mf\u001b[39m\u001b[38;5;124m\"\u001b[39m\u001b[38;5;132;01m{\u001b[39;00m\u001b[38;5;28mself\u001b[39m\u001b[38;5;241m.\u001b[39m_host\u001b[38;5;132;01m}\u001b[39;00m\u001b[38;5;124m:\u001b[39m\u001b[38;5;132;01m{\u001b[39;00m\u001b[38;5;28mself\u001b[39m\u001b[38;5;241m.\u001b[39m_port\u001b[38;5;132;01m}\u001b[39;00m\u001b[38;5;124m\"\u001b[39m\n\u001b[1;32m    675\u001b[0m     )\n",
      "\u001b[0;31mProgrammingError\u001b[0m: 1146 (42S02): Table 'pippo.mytable' doesn't exist"
     ]
    }
   ],
   "source": [
    "\n",
    "\n",
    "mycursor = mydb.cursor()\n",
    "#result_dict = {}\n",
    "for n in range(2,6):\n",
    "    for w in range(1,n):\n",
    "        query = f\"\"\"SELECT number_of_services, number_of_nodes, avg(percentage)\n",
    "                FROM pippo.mytable\n",
    "                WHERE number_of_nodes = {n} AND window_size = {w}\n",
    "                GROUP BY number_of_nodes, number_of_services,window_size\n",
    "                ORDER BY number_of_services\n",
    "            \"\"\"\n",
    "        mycursor.execute(query)\n",
    "\n",
    "        result_dict = {}\n",
    "        for row in mycursor:\n",
    "            number_of_services = row[0]\n",
    "            number_of_nodes = row[1]\n",
    "            execution_time = row[2]\n",
    "\n",
    "            if number_of_services not in result_dict:\n",
    "                result_dict[number_of_services] = [execution_time]\n",
    "            else:\n",
    "                result_dict[number_of_services].append(execution_time)\n",
    "\n",
    "        # Print the formatted output\n",
    "        with open(f\"window_percentage_performance_n{n}_w{w}.dat\", \"w\") as file:\n",
    "            for number_of_nodes, execution_times in result_dict.items():\n",
    "                starred = \" \".join(map(str, execution_times))\n",
    "                file.write(f\"{wino} {number_of_nodes} {starred}\\n\")\n",
    "                print(number_of_nodes, starred)\n"
   ]
  },
  {
   "cell_type": "code",
   "execution_count": null,
   "metadata": {},
   "outputs": [],
   "source": [
    "mydb.close()"
   ]
  },
  {
   "cell_type": "code",
   "execution_count": null,
   "metadata": {},
   "outputs": [
    {
     "ename": "OperationalError",
     "evalue": "MySQL Connection not available.",
     "output_type": "error",
     "traceback": [
      "\u001b[0;31m---------------------------------------------------------------------------\u001b[0m",
      "\u001b[0;31mOperationalError\u001b[0m                          Traceback (most recent call last)",
      "Cell \u001b[0;32mIn[46], line 1\u001b[0m\n\u001b[0;32m----> 1\u001b[0m mycursor \u001b[38;5;241m=\u001b[39m \u001b[43mmydb\u001b[49m\u001b[38;5;241;43m.\u001b[39;49m\u001b[43mcursor\u001b[49m\u001b[43m(\u001b[49m\u001b[43m)\u001b[49m\n\u001b[1;32m      2\u001b[0m \u001b[38;5;66;03m#result_dict = {}\u001b[39;00m\n\u001b[1;32m      3\u001b[0m \u001b[38;5;28;01mfor\u001b[39;00m n \u001b[38;5;129;01min\u001b[39;00m \u001b[38;5;28mrange\u001b[39m(\u001b[38;5;241m2\u001b[39m,\u001b[38;5;241m6\u001b[39m):\n",
      "File \u001b[0;32m~/Dottorato/03_paper_in_corso/Big Data Access Control - extension/.venv/lib/python3.11/site-packages/mysql/connector/connection_cext.py:728\u001b[0m, in \u001b[0;36mCMySQLConnection.cursor\u001b[0;34m(self, buffered, raw, prepared, cursor_class, dictionary, named_tuple)\u001b[0m\n\u001b[1;32m    726\u001b[0m \u001b[38;5;28mself\u001b[39m\u001b[38;5;241m.\u001b[39mhandle_unread_result(prepared)\n\u001b[1;32m    727\u001b[0m \u001b[38;5;28;01mif\u001b[39;00m \u001b[38;5;129;01mnot\u001b[39;00m \u001b[38;5;28mself\u001b[39m\u001b[38;5;241m.\u001b[39mis_connected():\n\u001b[0;32m--> 728\u001b[0m     \u001b[38;5;28;01mraise\u001b[39;00m OperationalError(\u001b[38;5;124m\"\u001b[39m\u001b[38;5;124mMySQL Connection not available.\u001b[39m\u001b[38;5;124m\"\u001b[39m)\n\u001b[1;32m    729\u001b[0m \u001b[38;5;28;01mif\u001b[39;00m cursor_class \u001b[38;5;129;01mis\u001b[39;00m \u001b[38;5;129;01mnot\u001b[39;00m \u001b[38;5;28;01mNone\u001b[39;00m:\n\u001b[1;32m    730\u001b[0m     \u001b[38;5;28;01mif\u001b[39;00m \u001b[38;5;129;01mnot\u001b[39;00m \u001b[38;5;28missubclass\u001b[39m(cursor_class, CMySQLCursor):\n",
      "\u001b[0;31mOperationalError\u001b[0m: MySQL Connection not available."
     ]
    }
   ],
   "source": [
    "\n",
    "\n",
    "mycursor = mydb.cursor()\n",
    "#result_dict = {}\n",
    "for n in range(2,6):\n",
    "    for w in range(1,n):\n",
    "        query = f\"\"\"SELECT number_of_services, number_of_nodes, avg(percentage)\n",
    "                FROM pippo.mytable\n",
    "                WHERE number_of_nodes = {n} AND window_size = {w}\n",
    "                GROUP BY number_of_nodes, number_of_services,window_size\n",
    "                ORDER BY number_of_services\n",
    "            \"\"\"\n",
    "        mycursor.execute(query)\n",
    "\n",
    "        result_dict = {}\n",
    "        for row in mycursor:\n",
    "            number_of_services = row[0]\n",
    "            number_of_nodes = row[1]\n",
    "            execution_time = row[2]\n",
    "\n",
    "            if number_of_services not in result_dict:\n",
    "                result_dict[number_of_services] = [execution_time]\n",
    "            else:\n",
    "                result_dict[number_of_services].append(execution_time)\n",
    "\n",
    "        # Print the formatted output\n",
    "        with open(f\"window_percentage_performance_n{n}_w{w}.dat\", \"w\") as file:\n",
    "            for number_of_nodes, execution_times in result_dict.items():\n",
    "                starred = \" \".join(map(str, execution_times))\n",
    "                file.write(f\"{number_of_nodes} {starred}\\n\")\n",
    "                print(number_of_nodes, starred)\n",
    "\n",
    "\n",
    "mydb.close()\n",
    "\n",
    "\n",
    "\n"
   ]
  }
 ],
 "metadata": {
  "kernelspec": {
   "display_name": ".venv",
   "language": "python",
   "name": "python3"
  },
  "language_info": {
   "codemirror_mode": {
    "name": "ipython",
    "version": 3
   },
   "file_extension": ".py",
   "mimetype": "text/x-python",
   "name": "python",
   "nbconvert_exporter": "python",
   "pygments_lexer": "ipython3",
   "version": "3.12.2"
  }
 },
 "nbformat": 4,
 "nbformat_minor": 2
}
