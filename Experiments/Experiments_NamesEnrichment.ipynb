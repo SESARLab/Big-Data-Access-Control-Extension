{
 "cells": [
  {
   "cell_type": "code",
   "execution_count": null,
   "metadata": {},
   "outputs": [],
   "source": [
    "%pip install names\n",
    "%pip install pandas\n"
   ]
  },
  {
   "cell_type": "code",
   "execution_count": 17,
   "metadata": {},
   "outputs": [],
   "source": [
    "import names\n",
    "import pandas as pd\n",
    "\n",
    "df = pd.read_csv('inmates.csv')\n"
   ]
  },
  {
   "cell_type": "code",
   "execution_count": 43,
   "metadata": {},
   "outputs": [
    {
     "data": {
      "text/html": [
       "<div>\n",
       "<style scoped>\n",
       "    .dataframe tbody tr th:only-of-type {\n",
       "        vertical-align: middle;\n",
       "    }\n",
       "\n",
       "    .dataframe tbody tr th {\n",
       "        vertical-align: top;\n",
       "    }\n",
       "\n",
       "    .dataframe thead th {\n",
       "        text-align: right;\n",
       "    }\n",
       "</style>\n",
       "<table border=\"1\" class=\"dataframe\">\n",
       "  <thead>\n",
       "    <tr style=\"text-align: right;\">\n",
       "      <th></th>\n",
       "      <th>DOWNLOAD DATE</th>\n",
       "      <th>IDENTIFIER</th>\n",
       "      <th>LATEST ADMISSION DATE</th>\n",
       "      <th>RACE</th>\n",
       "      <th>GENDER</th>\n",
       "      <th>AGE</th>\n",
       "      <th>BOND AMOUNT</th>\n",
       "      <th>OFFENSE</th>\n",
       "      <th>FACILITY</th>\n",
       "      <th>DETAINER</th>\n",
       "    </tr>\n",
       "  </thead>\n",
       "  <tbody>\n",
       "    <tr>\n",
       "      <th>1954265</th>\n",
       "      <td>04/15/2018</td>\n",
       "      <td>ZZSRRBHR</td>\n",
       "      <td>10/10/2017</td>\n",
       "      <td>BLACK</td>\n",
       "      <td>M</td>\n",
       "      <td>17</td>\n",
       "      <td>250000</td>\n",
       "      <td>ASSAULT, FIRST DEGREE                 BF</td>\n",
       "      <td>MANSON YI</td>\n",
       "      <td>NONE</td>\n",
       "    </tr>\n",
       "    <tr>\n",
       "      <th>4187242</th>\n",
       "      <td>02/22/2020</td>\n",
       "      <td>ZZEWZBJZ</td>\n",
       "      <td>01/09/2020</td>\n",
       "      <td>WHITE</td>\n",
       "      <td>M</td>\n",
       "      <td>51</td>\n",
       "      <td>3700</td>\n",
       "      <td>VIOLATION OF PROBATION OR COND DISCHG</td>\n",
       "      <td>HARTFORD CC</td>\n",
       "      <td>NONE</td>\n",
       "    </tr>\n",
       "    <tr>\n",
       "      <th>4479537</th>\n",
       "      <td>06/07/2020</td>\n",
       "      <td>ZZHZHWLH</td>\n",
       "      <td>11/02/2019</td>\n",
       "      <td>WHITE</td>\n",
       "      <td>M</td>\n",
       "      <td>38</td>\n",
       "      <td>106650</td>\n",
       "      <td>CRIM VIOL ST CRIM RESTR ORDER         DF</td>\n",
       "      <td>HARTFORD CC</td>\n",
       "      <td>NONE</td>\n",
       "    </tr>\n",
       "    <tr>\n",
       "      <th>4772807</th>\n",
       "      <td>09/22/2020</td>\n",
       "      <td>ZZSHSSHH</td>\n",
       "      <td>03/16/2020</td>\n",
       "      <td>HISPANIC</td>\n",
       "      <td>M</td>\n",
       "      <td>23</td>\n",
       "      <td>50000</td>\n",
       "      <td>ARSON, FIRST DEGREE                   AF</td>\n",
       "      <td>BRIDGEPORT CC</td>\n",
       "      <td>T</td>\n",
       "    </tr>\n",
       "    <tr>\n",
       "      <th>5401037</th>\n",
       "      <td>04/18/2021</td>\n",
       "      <td>ZZSHWBSC</td>\n",
       "      <td>12/18/2020</td>\n",
       "      <td>HISPANIC</td>\n",
       "      <td>M</td>\n",
       "      <td>27</td>\n",
       "      <td>250500</td>\n",
       "      <td>ASSAULT, FIRST DEGREE                 BF</td>\n",
       "      <td>GARNER</td>\n",
       "      <td>NONE</td>\n",
       "    </tr>\n",
       "  </tbody>\n",
       "</table>\n",
       "</div>"
      ],
      "text/plain": [
       "        DOWNLOAD DATE IDENTIFIER LATEST ADMISSION DATE      RACE GENDER  AGE  \\\n",
       "1954265    04/15/2018   ZZSRRBHR            10/10/2017     BLACK      M   17   \n",
       "4187242    02/22/2020   ZZEWZBJZ            01/09/2020     WHITE      M   51   \n",
       "4479537    06/07/2020   ZZHZHWLH            11/02/2019     WHITE      M   38   \n",
       "4772807    09/22/2020   ZZSHSSHH            03/16/2020  HISPANIC      M   23   \n",
       "5401037    04/18/2021   ZZSHWBSC            12/18/2020  HISPANIC      M   27   \n",
       "\n",
       "         BOND AMOUNT                                   OFFENSE       FACILITY  \\\n",
       "1954265       250000  ASSAULT, FIRST DEGREE                 BF      MANSON YI   \n",
       "4187242         3700     VIOLATION OF PROBATION OR COND DISCHG    HARTFORD CC   \n",
       "4479537       106650  CRIM VIOL ST CRIM RESTR ORDER         DF    HARTFORD CC   \n",
       "4772807        50000  ARSON, FIRST DEGREE                   AF  BRIDGEPORT CC   \n",
       "5401037       250500  ASSAULT, FIRST DEGREE                 BF         GARNER   \n",
       "\n",
       "        DETAINER                                          \n",
       "1954265                                             NONE  \n",
       "4187242                                             NONE  \n",
       "4479537                                             NONE  \n",
       "4772807                                                T  \n",
       "5401037                                             NONE  "
      ]
     },
     "execution_count": 43,
     "metadata": {},
     "output_type": "execute_result"
    }
   ],
   "source": [
    "df.sample(5)"
   ]
  },
  {
   "cell_type": "code",
   "execution_count": 48,
   "metadata": {},
   "outputs": [
    {
     "ename": "ValueError",
     "evalue": "cannot insert FIRST_NAME, already exists",
     "output_type": "error",
     "traceback": [
      "\u001b[0;31m---------------------------------------------------------------------------\u001b[0m",
      "\u001b[0;31mValueError\u001b[0m                                Traceback (most recent call last)",
      "\u001b[0;32m/var/folders/9p/3v9_n49x7gx949np4mg04ckm0000gn/T/ipykernel_52531/3379780424.py\u001b[0m in \u001b[0;36m?\u001b[0;34m()\u001b[0m\n\u001b[1;32m      2\u001b[0m \u001b[0mdfs\u001b[0m \u001b[0;34m=\u001b[0m \u001b[0mdf\u001b[0m\u001b[0;34m.\u001b[0m\u001b[0msample\u001b[0m\u001b[0;34m(\u001b[0m\u001b[0;36m1000\u001b[0m\u001b[0;34m)\u001b[0m\u001b[0;34m\u001b[0m\u001b[0;34m\u001b[0m\u001b[0m\n\u001b[1;32m      3\u001b[0m \u001b[0;31m# dfs = df\u001b[0m\u001b[0;34m\u001b[0m\u001b[0;34m\u001b[0m\u001b[0m\n\u001b[1;32m      4\u001b[0m \u001b[0mlength\u001b[0m \u001b[0;34m=\u001b[0m \u001b[0mlen\u001b[0m\u001b[0;34m(\u001b[0m\u001b[0mdfs\u001b[0m\u001b[0;34m.\u001b[0m\u001b[0mindex\u001b[0m\u001b[0;34m)\u001b[0m\u001b[0;34m\u001b[0m\u001b[0;34m\u001b[0m\u001b[0m\n\u001b[1;32m      5\u001b[0m \u001b[0;31m#get index where gender is F\u001b[0m\u001b[0;34m\u001b[0m\u001b[0;34m\u001b[0m\u001b[0m\n\u001b[0;32m----> 6\u001b[0;31m \u001b[0mdfs\u001b[0m\u001b[0;34m.\u001b[0m\u001b[0minsert\u001b[0m\u001b[0;34m(\u001b[0m\u001b[0;36m0\u001b[0m\u001b[0;34m,\u001b[0m\u001b[0;34m'FIRST_NAME'\u001b[0m\u001b[0;34m,\u001b[0m \u001b[0;34m[\u001b[0m\u001b[0mnames\u001b[0m\u001b[0;34m.\u001b[0m\u001b[0mget_first_name\u001b[0m\u001b[0;34m(\u001b[0m\u001b[0mgender\u001b[0m\u001b[0;34m=\u001b[0m \u001b[0;34m'male'\u001b[0m \u001b[0;32mif\u001b[0m \u001b[0mdfs\u001b[0m\u001b[0;34m.\u001b[0m\u001b[0miloc\u001b[0m\u001b[0;34m[\u001b[0m\u001b[0mi\u001b[0m\u001b[0;34m]\u001b[0m\u001b[0;34m[\u001b[0m\u001b[0;34m'GENDER'\u001b[0m\u001b[0;34m]\u001b[0m \u001b[0;34m==\u001b[0m \u001b[0;34m'M'\u001b[0m \u001b[0;32melse\u001b[0m \u001b[0;34m'female'\u001b[0m \u001b[0;34m)\u001b[0m\u001b[0;34m.\u001b[0m\u001b[0mupper\u001b[0m\u001b[0;34m(\u001b[0m\u001b[0;34m)\u001b[0m \u001b[0;32mfor\u001b[0m \u001b[0mi\u001b[0m \u001b[0;32min\u001b[0m \u001b[0mrange\u001b[0m\u001b[0;34m(\u001b[0m\u001b[0mlength\u001b[0m\u001b[0;34m)\u001b[0m\u001b[0;34m]\u001b[0m\u001b[0;34m)\u001b[0m\u001b[0;34m\u001b[0m\u001b[0;34m\u001b[0m\u001b[0m\n\u001b[0m\u001b[1;32m      7\u001b[0m \u001b[0mdfs\u001b[0m\u001b[0;34m.\u001b[0m\u001b[0minsert\u001b[0m\u001b[0;34m(\u001b[0m\u001b[0;36m1\u001b[0m\u001b[0;34m,\u001b[0m\u001b[0;34m'LAST_NAME'\u001b[0m \u001b[0;34m,\u001b[0m \u001b[0;34m[\u001b[0m\u001b[0mnames\u001b[0m\u001b[0;34m.\u001b[0m\u001b[0mget_last_name\u001b[0m\u001b[0;34m(\u001b[0m\u001b[0;34m)\u001b[0m\u001b[0;34m.\u001b[0m\u001b[0mupper\u001b[0m\u001b[0;34m(\u001b[0m\u001b[0;34m)\u001b[0m \u001b[0;32mfor\u001b[0m \u001b[0mi\u001b[0m \u001b[0;32min\u001b[0m \u001b[0mrange\u001b[0m\u001b[0;34m(\u001b[0m\u001b[0mlength\u001b[0m\u001b[0;34m)\u001b[0m\u001b[0;34m]\u001b[0m\u001b[0;34m)\u001b[0m\u001b[0;34m\u001b[0m\u001b[0;34m\u001b[0m\u001b[0m\n\u001b[1;32m      8\u001b[0m \u001b[0;34m\u001b[0m\u001b[0m\n\u001b[1;32m      9\u001b[0m \u001b[0;34m\u001b[0m\u001b[0m\n",
      "\u001b[0;32m~/Dottorato/03_paper_in_corso/Big Data Access Control - extension/.venv/lib/python3.11/site-packages/pandas/core/frame.py\u001b[0m in \u001b[0;36m?\u001b[0;34m(self, loc, column, value, allow_duplicates)\u001b[0m\n\u001b[1;32m   4930\u001b[0m                 \u001b[0;34m\"'self.flags.allows_duplicate_labels' is False.\"\u001b[0m\u001b[0;34m\u001b[0m\u001b[0;34m\u001b[0m\u001b[0m\n\u001b[1;32m   4931\u001b[0m             )\n\u001b[1;32m   4932\u001b[0m         \u001b[0;32mif\u001b[0m \u001b[0;32mnot\u001b[0m \u001b[0mallow_duplicates\u001b[0m \u001b[0;32mand\u001b[0m \u001b[0mcolumn\u001b[0m \u001b[0;32min\u001b[0m \u001b[0mself\u001b[0m\u001b[0;34m.\u001b[0m\u001b[0mcolumns\u001b[0m\u001b[0;34m:\u001b[0m\u001b[0;34m\u001b[0m\u001b[0;34m\u001b[0m\u001b[0m\n\u001b[1;32m   4933\u001b[0m             \u001b[0;31m# Should this be a different kind of error??\u001b[0m\u001b[0;34m\u001b[0m\u001b[0;34m\u001b[0m\u001b[0m\n\u001b[0;32m-> 4934\u001b[0;31m             \u001b[0;32mraise\u001b[0m \u001b[0mValueError\u001b[0m\u001b[0;34m(\u001b[0m\u001b[0;34mf\"cannot insert {column}, already exists\"\u001b[0m\u001b[0;34m)\u001b[0m\u001b[0;34m\u001b[0m\u001b[0;34m\u001b[0m\u001b[0m\n\u001b[0m\u001b[1;32m   4935\u001b[0m         \u001b[0;32mif\u001b[0m \u001b[0;32mnot\u001b[0m \u001b[0mis_integer\u001b[0m\u001b[0;34m(\u001b[0m\u001b[0mloc\u001b[0m\u001b[0;34m)\u001b[0m\u001b[0;34m:\u001b[0m\u001b[0;34m\u001b[0m\u001b[0;34m\u001b[0m\u001b[0m\n\u001b[1;32m   4936\u001b[0m             \u001b[0;32mraise\u001b[0m \u001b[0mTypeError\u001b[0m\u001b[0;34m(\u001b[0m\u001b[0;34m\"loc must be int\"\u001b[0m\u001b[0;34m)\u001b[0m\u001b[0;34m\u001b[0m\u001b[0;34m\u001b[0m\u001b[0m\n\u001b[1;32m   4937\u001b[0m         \u001b[0;31m# convert non stdlib ints to satisfy typing checks\u001b[0m\u001b[0;34m\u001b[0m\u001b[0;34m\u001b[0m\u001b[0m\n",
      "\u001b[0;31mValueError\u001b[0m: cannot insert FIRST_NAME, already exists"
     ]
    }
   ],
   "source": [
    "\n",
    "length = len(df.index)\n",
    "dfs = df.sample(1000)\n",
    "length = len(dfs.index)\n",
    "#get index where gender is F\n",
    "dfs['FIRST_NAME'] = [names.get_first_name(gender= 'male' if dfs.iloc[i]['GENDER'] == 'M' else 'female' ) for i in range(length)]\n",
    "dfs['LAST_NAME'] = [names.get_last_name() for i in range(length)]\n",
    "\n",
    "\n",
    "dfs.sample(10)\n",
    "\n",
    "# [names.get_last_name() for i in range(length)]\n"
   ]
  }
 ],
 "metadata": {
  "kernelspec": {
   "display_name": ".venv",
   "language": "python",
   "name": "python3"
  },
  "language_info": {
   "codemirror_mode": {
    "name": "ipython",
    "version": 3
   },
   "file_extension": ".py",
   "mimetype": "text/x-python",
   "name": "python",
   "nbconvert_exporter": "python",
   "pygments_lexer": "ipython3",
   "version": "3.11.5"
  },
  "orig_nbformat": 4
 },
 "nbformat": 4,
 "nbformat_minor": 2
}
