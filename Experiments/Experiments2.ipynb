{
 "cells": [
  {
   "cell_type": "code",
   "execution_count": 2,
   "metadata": {},
   "outputs": [
    {
     "name": "stdout",
     "output_type": "stream",
     "text": [
      "DataFrame converted to list:\n",
      "[[1, 'A'], [2, 'B'], [3, 'C']]\n"
     ]
    }
   ],
   "source": [
    "import pandas as pd\n",
    "\n",
    "def convert_dataframe_to_list(data):\n",
    "    if isinstance(data, pd.DataFrame):\n",
    "        data_list = data.values.tolist()\n",
    "        return data_list\n",
    "    elif isinstance(data, list):\n",
    "        return data\n",
    "\n",
    "# Example usage:\n",
    "# Assuming 'df' is the variable you want to check and convert\n",
    "df = pd.DataFrame({\n",
    "    'Column1': [1, 2, 3],\n",
    "    'Column2': ['A', 'B', 'C']\n",
    "})\n",
    "\n",
    "# Check if 'df' is a DataFrame and convert it to a list\n",
    "result_list = convert_dataframe_to_list(df)\n",
    "\n",
    "if result_list:\n",
    "    print(\"DataFrame converted to list:\")\n",
    "    print(result_list)\n",
    "\n",
    "\n"
   ]
  }
 ],
 "metadata": {
  "kernelspec": {
   "display_name": "Python 3",
   "language": "python",
   "name": "python3"
  },
  "language_info": {
   "codemirror_mode": {
    "name": "ipython",
    "version": 3
   },
   "file_extension": ".py",
   "mimetype": "text/x-python",
   "name": "python",
   "nbconvert_exporter": "python",
   "pygments_lexer": "ipython3",
   "version": "3.11.4"
  },
  "orig_nbformat": 4
 },
 "nbformat": 4,
 "nbformat_minor": 2
}
